{
 "cells": [
  {
   "cell_type": "markdown",
   "metadata": {},
   "source": [
    "**Import Dependencies**"
   ]
  },
  {
   "cell_type": "code",
   "execution_count": 7,
   "metadata": {},
   "outputs": [
    {
     "data": {
      "text/plain": [
       "<module 'refactor_data' from 'c:\\\\Users\\\\mcdin\\\\OneDrive - The University of Sydney (Students)\\\\Other\\\\Code Projects\\\\UFCStats\\\\refactor_data.py'>"
      ]
     },
     "execution_count": 7,
     "metadata": {},
     "output_type": "execute_result"
    }
   ],
   "source": [
    "import importlib\n",
    "import web_scrape as ws\n",
    "import refactor_data as rd\n",
    "\n",
    "importlib.reload(ws)\n",
    "importlib.reload(rd)"
   ]
  },
  {
   "cell_type": "markdown",
   "metadata": {},
   "source": [
    "**Scrape From Web**"
   ]
  },
  {
   "cell_type": "code",
   "execution_count": 8,
   "metadata": {},
   "outputs": [
    {
     "ename": "KeyError",
     "evalue": "'href'",
     "output_type": "error",
     "traceback": [
      "\u001b[1;31m---------------------------------------------------------------------------\u001b[0m",
      "\u001b[1;31mKeyError\u001b[0m                                  Traceback (most recent call last)",
      "Cell \u001b[1;32mIn[8], line 2\u001b[0m\n\u001b[0;32m      1\u001b[0m saved_filename \u001b[38;5;241m=\u001b[39m \u001b[38;5;124m\"\u001b[39m\u001b[38;5;124mmaster.csv\u001b[39m\u001b[38;5;124m\"\u001b[39m\n\u001b[1;32m----> 2\u001b[0m upcoming_event, events \u001b[38;5;241m=\u001b[39m \u001b[43mws\u001b[49m\u001b[38;5;241;43m.\u001b[39;49m\u001b[43mpopulate_events\u001b[49m\u001b[43m(\u001b[49m\u001b[43msaved_filename\u001b[49m\u001b[43m)\u001b[49m\n",
      "File \u001b[1;32mc:\\Users\\mcdin\\OneDrive - The University of Sydney (Students)\\Other\\Code Projects\\UFCStats\\web_scrape.py:86\u001b[0m, in \u001b[0;36mpopulate_events\u001b[1;34m(saved_filename)\u001b[0m\n\u001b[0;32m     84\u001b[0m   \u001b[38;5;28;01mbreak\u001b[39;00m\n\u001b[0;32m     85\u001b[0m \u001b[38;5;28;01mif\u001b[39;00m name \u001b[38;5;129;01mnot\u001b[39;00m \u001b[38;5;129;01min\u001b[39;00m names_list:\n\u001b[1;32m---> 86\u001b[0m   events\u001b[38;5;241m.\u001b[39mappend(Event(name, date, event_link, \u001b[43mget_fights\u001b[49m\u001b[43m(\u001b[49m\u001b[43mevent_link\u001b[49m\u001b[43m)\u001b[49m))\n\u001b[0;32m     87\u001b[0m   \u001b[38;5;28mprint\u001b[39m(\u001b[38;5;124m\"\u001b[39m\u001b[38;5;124mFound New Event:\u001b[39m\u001b[38;5;124m\"\u001b[39m, name)\n\u001b[0;32m     88\u001b[0m \u001b[38;5;28;01melse\u001b[39;00m:\n",
      "File \u001b[1;32mc:\\Users\\mcdin\\OneDrive - The University of Sydney (Students)\\Other\\Code Projects\\UFCStats\\web_scrape.py:110\u001b[0m, in \u001b[0;36mget_fights\u001b[1;34m(event_link)\u001b[0m\n\u001b[0;32m    108\u001b[0m   weightclass \u001b[38;5;241m=\u001b[39m raw[i]\u001b[38;5;241m.\u001b[39mfind_all(class_\u001b[38;5;241m=\u001b[39m\u001b[38;5;124m\"\u001b[39m\u001b[38;5;124mb-fight-details__table-col l-page_align_left\u001b[39m\u001b[38;5;124m\"\u001b[39m)[\u001b[38;5;241m1\u001b[39m]\u001b[38;5;241m.\u001b[39mfind(class_\u001b[38;5;241m=\u001b[39m\u001b[38;5;124m\"\u001b[39m\u001b[38;5;124mb-fight-details__table-text\u001b[39m\u001b[38;5;124m\"\u001b[39m)\u001b[38;5;241m.\u001b[39mget_text(strip\u001b[38;5;241m=\u001b[39m\u001b[38;5;28;01mTrue\u001b[39;00m)\n\u001b[0;32m    109\u001b[0m   fight_link \u001b[38;5;241m=\u001b[39m raw[i][\u001b[38;5;124m'\u001b[39m\u001b[38;5;124mdata-link\u001b[39m\u001b[38;5;124m'\u001b[39m]\n\u001b[1;32m--> 110\u001b[0m   fights_list\u001b[38;5;241m.\u001b[39mappend(Fight(method, winner, weightclass, fight_link, \u001b[43mget_stats\u001b[49m\u001b[43m(\u001b[49m\u001b[43mfight_link\u001b[49m\u001b[43m,\u001b[49m\u001b[43m \u001b[49m\u001b[38;5;124;43m\"\u001b[39;49m\u001b[38;5;124;43mDEC\u001b[39;49m\u001b[38;5;124;43m\"\u001b[39;49m\u001b[43m \u001b[49m\u001b[38;5;129;43;01min\u001b[39;49;00m\u001b[43m \u001b[49m\u001b[43mmethod\u001b[49m\u001b[43m)\u001b[49m))\n\u001b[0;32m    111\u001b[0m fights_list\u001b[38;5;241m.\u001b[39mreverse()\n\u001b[0;32m    112\u001b[0m \u001b[38;5;28;01mreturn\u001b[39;00m fights_list\n",
      "File \u001b[1;32mc:\\Users\\mcdin\\OneDrive - The University of Sydney (Students)\\Other\\Code Projects\\UFCStats\\web_scrape.py:136\u001b[0m, in \u001b[0;36mget_stats\u001b[1;34m(fight_link, was_dec)\u001b[0m\n\u001b[0;32m    133\u001b[0m f1_name \u001b[38;5;241m=\u001b[39m first_table[\u001b[38;5;241m0\u001b[39m]\u001b[38;5;241m.\u001b[39mget_text(strip\u001b[38;5;241m=\u001b[39m\u001b[38;5;28;01mTrue\u001b[39;00m)\n\u001b[0;32m    134\u001b[0m f2_name \u001b[38;5;241m=\u001b[39m first_table[\u001b[38;5;241m1\u001b[39m]\u001b[38;5;241m.\u001b[39mget_text(strip\u001b[38;5;241m=\u001b[39m\u001b[38;5;28;01mTrue\u001b[39;00m)\n\u001b[1;32m--> 136\u001b[0m f1_link \u001b[38;5;241m=\u001b[39m \u001b[43mfirst_table\u001b[49m\u001b[43m[\u001b[49m\u001b[38;5;241;43m0\u001b[39;49m\u001b[43m]\u001b[49m\u001b[43m[\u001b[49m\u001b[38;5;124;43m'\u001b[39;49m\u001b[38;5;124;43mhref\u001b[39;49m\u001b[38;5;124;43m'\u001b[39;49m\u001b[43m]\u001b[49m\n\u001b[0;32m    137\u001b[0m f2_link \u001b[38;5;241m=\u001b[39m first_table[\u001b[38;5;241m1\u001b[39m][\u001b[38;5;124m'\u001b[39m\u001b[38;5;124mhref\u001b[39m\u001b[38;5;124m'\u001b[39m]\n\u001b[0;32m    139\u001b[0m f1_kd \u001b[38;5;241m=\u001b[39m \u001b[38;5;28mint\u001b[39m(first_table[\u001b[38;5;241m2\u001b[39m]\u001b[38;5;241m.\u001b[39mget_text(strip\u001b[38;5;241m=\u001b[39m\u001b[38;5;28;01mTrue\u001b[39;00m))\n",
      "File \u001b[1;32m~\\AppData\\Local\\Packages\\PythonSoftwareFoundation.Python.3.11_qbz5n2kfra8p0\\LocalCache\\local-packages\\Python311\\site-packages\\bs4\\element.py:1573\u001b[0m, in \u001b[0;36mTag.__getitem__\u001b[1;34m(self, key)\u001b[0m\n\u001b[0;32m   1570\u001b[0m \u001b[38;5;28;01mdef\u001b[39;00m \u001b[38;5;21m__getitem__\u001b[39m(\u001b[38;5;28mself\u001b[39m, key):\n\u001b[0;32m   1571\u001b[0m \u001b[38;5;250m    \u001b[39m\u001b[38;5;124;03m\"\"\"tag[key] returns the value of the 'key' attribute for the Tag,\u001b[39;00m\n\u001b[0;32m   1572\u001b[0m \u001b[38;5;124;03m    and throws an exception if it's not there.\"\"\"\u001b[39;00m\n\u001b[1;32m-> 1573\u001b[0m     \u001b[38;5;28;01mreturn\u001b[39;00m \u001b[38;5;28;43mself\u001b[39;49m\u001b[38;5;241;43m.\u001b[39;49m\u001b[43mattrs\u001b[49m\u001b[43m[\u001b[49m\u001b[43mkey\u001b[49m\u001b[43m]\u001b[49m\n",
      "\u001b[1;31mKeyError\u001b[0m: 'href'"
     ]
    }
   ],
   "source": [
    "saved_filename = \"master.csv\"\n",
    "upcoming_event, events = ws.populate_events(saved_filename)"
   ]
  },
  {
   "cell_type": "markdown",
   "metadata": {},
   "source": [
    "**Construct Permanent Data Storage**"
   ]
  },
  {
   "cell_type": "code",
   "execution_count": null,
   "metadata": {},
   "outputs": [],
   "source": [
    "master_frame = rd.construct_dataframe(events, saved_filename)"
   ]
  }
 ],
 "metadata": {
  "kernelspec": {
   "display_name": "Python 3",
   "language": "python",
   "name": "python3"
  },
  "language_info": {
   "codemirror_mode": {
    "name": "ipython",
    "version": 3
   },
   "file_extension": ".py",
   "mimetype": "text/x-python",
   "name": "python",
   "nbconvert_exporter": "python",
   "pygments_lexer": "ipython3",
   "version": "3.11.9"
  }
 },
 "nbformat": 4,
 "nbformat_minor": 2
}
